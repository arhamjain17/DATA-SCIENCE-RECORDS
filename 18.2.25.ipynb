{
 "cells": [
  {
   "cell_type": "code",
   "execution_count": 1,
   "id": "e8c637f3",
   "metadata": {},
   "outputs": [
    {
     "name": "stdout",
     "output_type": "stream",
     "text": [
      "Arham_Jain\n"
     ]
    }
   ],
   "source": [
    "print(\"Arham\",\"Jain\",sep=\"_\")"
   ]
  },
  {
   "cell_type": "code",
   "execution_count": 2,
   "id": "88663465",
   "metadata": {},
   "outputs": [
    {
     "name": "stdout",
     "output_type": "stream",
     "text": [
      "Arham_Jain\n"
     ]
    }
   ],
   "source": [
    "print(\"Arham\",end=\"_\")\n",
    "print(\"Jain\")"
   ]
  },
  {
   "cell_type": "code",
   "execution_count": 5,
   "id": "78b805cf",
   "metadata": {},
   "outputs": [
    {
     "data": {
      "text/plain": [
       "['False',\n",
       " 'None',\n",
       " 'True',\n",
       " '__peg_parser__',\n",
       " 'and',\n",
       " 'as',\n",
       " 'assert',\n",
       " 'async',\n",
       " 'await',\n",
       " 'break',\n",
       " 'class',\n",
       " 'continue',\n",
       " 'def',\n",
       " 'del',\n",
       " 'elif',\n",
       " 'else',\n",
       " 'except',\n",
       " 'finally',\n",
       " 'for',\n",
       " 'from',\n",
       " 'global',\n",
       " 'if',\n",
       " 'import',\n",
       " 'in',\n",
       " 'is',\n",
       " 'lambda',\n",
       " 'nonlocal',\n",
       " 'not',\n",
       " 'or',\n",
       " 'pass',\n",
       " 'raise',\n",
       " 'return',\n",
       " 'try',\n",
       " 'while',\n",
       " 'with',\n",
       " 'yield']"
      ]
     },
     "execution_count": 5,
     "metadata": {},
     "output_type": "execute_result"
    }
   ],
   "source": [
    "import keyword\n",
    "keyword.kwlist"
   ]
  },
  {
   "cell_type": "code",
   "execution_count": 16,
   "id": "72c3b9df",
   "metadata": {},
   "outputs": [
    {
     "name": "stdout",
     "output_type": "stream",
     "text": [
      "[1, 2, 3, 4, 5, 6]\n",
      "[1, 2, 3, 4, 5, 6, 7, 8, 9]\n",
      "[1, 2, 4, 5, 6, 7, 8, 9]\n",
      "[1, 2, 3, 4, 5, 6, 7, 8, 9]\n",
      "[2, 3, 4, 5, 6, 7, 8, 9]\n"
     ]
    }
   ],
   "source": [
    "### append extend remove insert delete\n",
    "\n",
    "l=[1,2,3,4,5]\n",
    "l.append(6)\n",
    "print(l)\n",
    "\n",
    "l1=[7,8,9]\n",
    "l.extend(l1)\n",
    "print(l)\n",
    "\n",
    "l.remove(3)\n",
    "print(l)\n",
    "\n",
    "l.insert(2,3)\n",
    "print(l)\n",
    "\n",
    "del(l[0])\n",
    "print(l)"
   ]
  },
  {
   "cell_type": "code",
   "execution_count": 18,
   "id": "cfb2cdde",
   "metadata": {},
   "outputs": [
    {
     "name": "stdout",
     "output_type": "stream",
     "text": [
      "Enter no. 1 5\n",
      "Enter no. 2 4\n",
      "9\n",
      "\n",
      "Enter no. 4\n",
      "even\n"
     ]
    }
   ],
   "source": [
    "#sum of user nos\n",
    "#check if even or odd\n",
    "#factorial\n",
    "\n",
    "a=int(input(\"Enter no. 1 \"))\n",
    "b=int(input(\"Enter no. 2 \"))\n",
    "print(a+b)\n",
    "print()\n",
    "x=int(input(\"Enter no. \"))\n",
    "if(x%2==0):\n",
    "    print(\"even\")\n",
    "else:\n",
    "    print(\"odd\")\n"
   ]
  },
  {
   "cell_type": "code",
   "execution_count": 20,
   "id": "8ea53d01",
   "metadata": {},
   "outputs": [
    {
     "name": "stdout",
     "output_type": "stream",
     "text": [
      "Enter length 4\n",
      "Enter breadth 5\n",
      "area: 20\n"
     ]
    }
   ],
   "source": [
    "a=int(input(\"Enter length \"))\n",
    "b=int(input(\"Enter breadth \"))\n",
    "print(\"area:\",a*b)"
   ]
  },
  {
   "cell_type": "code",
   "execution_count": 21,
   "id": "80d1cb39",
   "metadata": {},
   "outputs": [
    {
     "name": "stdout",
     "output_type": "stream",
     "text": [
      "remainder:  1\n",
      "quotient:  3\n"
     ]
    }
   ],
   "source": [
    "n1=10\n",
    "n2=3\n",
    "\n",
    "rem=n1%n2\n",
    "print(\"remainder: \",rem)\n",
    "\n",
    "quo=n1//n2\n",
    "print(\"quotient: \",quo)\n"
   ]
  },
  {
   "cell_type": "code",
   "execution_count": 23,
   "id": "8aba61df",
   "metadata": {},
   "outputs": [
    {
     "name": "stdout",
     "output_type": "stream",
     "text": [
      "Arham\n",
      "18\n",
      "Hello Arham Your age next year will be 19\n"
     ]
    }
   ],
   "source": [
    "n=input()\n",
    "a=int(input())\n",
    "print(f\"Hello {n} Your age next year will be {a+1}\")"
   ]
  },
  {
   "cell_type": "code",
   "execution_count": null,
   "id": "35da0e32",
   "metadata": {},
   "outputs": [],
   "source": []
  }
 ],
 "metadata": {
  "kernelspec": {
   "display_name": "Python 3 (ipykernel)",
   "language": "python",
   "name": "python3"
  },
  "language_info": {
   "codemirror_mode": {
    "name": "ipython",
    "version": 3
   },
   "file_extension": ".py",
   "mimetype": "text/x-python",
   "name": "python",
   "nbconvert_exporter": "python",
   "pygments_lexer": "ipython3",
   "version": "3.9.7"
  }
 },
 "nbformat": 4,
 "nbformat_minor": 5
}

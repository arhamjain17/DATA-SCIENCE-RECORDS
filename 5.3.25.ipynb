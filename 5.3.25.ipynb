{
 "cells": [
  {
   "cell_type": "code",
   "execution_count": 3,
   "id": "0e328dd7",
   "metadata": {},
   "outputs": [
    {
     "name": "stdout",
     "output_type": "stream",
     "text": [
      "No.of vowels is:  7\n"
     ]
    }
   ],
   "source": [
    "s=\"I love to learn python\"\n",
    "c=0\n",
    "for i in s:\n",
    "    if i in \"AEIOUaeiou\":\n",
    "        c+=1\n",
    "print(\"No.of vowels is: \",c)"
   ]
  },
  {
   "cell_type": "code",
   "execution_count": 4,
   "id": "9645f971",
   "metadata": {},
   "outputs": [
    {
     "name": "stdout",
     "output_type": "stream",
     "text": [
      "I\n"
     ]
    }
   ],
   "source": [
    "s=\"I love to learn python\"\n",
    "for i in s:\n",
    "    if i in \"AEIOUaeiou\":\n",
    "        print(i)\n",
    "        break\n"
   ]
  },
  {
   "cell_type": "code",
   "execution_count": 5,
   "id": "e658b98e",
   "metadata": {},
   "outputs": [
    {
     "name": "stdout",
     "output_type": "stream",
     "text": [
      "60\n"
     ]
    }
   ],
   "source": [
    "l=[10,25,60,45,30,55,70]\n",
    "for i in l:\n",
    "    if(i>50):\n",
    "        print(i)\n",
    "        break"
   ]
  },
  {
   "cell_type": "code",
   "execution_count": 6,
   "id": "925e87c6",
   "metadata": {},
   "outputs": [
    {
     "name": "stdout",
     "output_type": "stream",
     "text": [
      "secret\n",
      "Successful\n"
     ]
    }
   ],
   "source": [
    "pas=input()\n",
    "if pas==\"secret\":\n",
    "    print(\"Successful\")\n",
    "else:\n",
    "    print(\"Unsucessful\")"
   ]
  },
  {
   "cell_type": "code",
   "execution_count": 11,
   "id": "a506e654",
   "metadata": {},
   "outputs": [
    {
     "data": {
      "text/plain": [
       "'Successful'"
      ]
     },
     "execution_count": 11,
     "metadata": {},
     "output_type": "execute_result"
    }
   ],
   "source": [
    "x= \"Successful\" if (pas == \"secret\") else \"Unsucesful\"\n",
    "x"
   ]
  },
  {
   "cell_type": "code",
   "execution_count": 12,
   "id": "67a7c8a5",
   "metadata": {},
   "outputs": [
    {
     "name": "stdout",
     "output_type": "stream",
     "text": [
      "sss\n",
      "secert\n",
      "secret\n",
      "Sucessful\n"
     ]
    }
   ],
   "source": [
    "x=input()\n",
    "while(x!=\"secret\"):\n",
    "    x=input()\n",
    "print(\"Sucessful\")"
   ]
  },
  {
   "cell_type": "code",
   "execution_count": 16,
   "id": "761b5a47",
   "metadata": {},
   "outputs": [
    {
     "name": "stdout",
     "output_type": "stream",
     "text": [
      "afu\\asafba\n",
      "f asnfao\n",
      "\\asfa\n",
      "jdsbu\n",
      "More than 3 wrong attempts, Account blocked\n"
     ]
    }
   ],
   "source": [
    "x=input()\n",
    "c=1\n",
    "while(x!=\"secret\" and c<=3):\n",
    "    x=input()\n",
    "    c+=1\n",
    "if(c>3):\n",
    "    print(\"More than 3 wrong attempts, Account blocked\")\n",
    "else:\n",
    "    print(\"Sucessful\")"
   ]
  },
  {
   "cell_type": "code",
   "execution_count": 18,
   "id": "d0a2c6c7",
   "metadata": {},
   "outputs": [
    {
     "name": "stdout",
     "output_type": "stream",
     "text": [
      "2 4 6 8 10 "
     ]
    }
   ],
   "source": [
    "n=[1,2,3,4,5,6,7,8,9,10]\n",
    "for i in n:\n",
    "    if(i%2!=0):\n",
    "        continue\n",
    "    print(i,end=\" \")"
   ]
  },
  {
   "cell_type": "code",
   "execution_count": 23,
   "id": "153b54d1",
   "metadata": {},
   "outputs": [
    {
     "name": "stdout",
     "output_type": "stream",
     "text": [
      "5 10 15 "
     ]
    }
   ],
   "source": [
    "n=[-2,5,-8,10,-3,15]\n",
    "for i in n:\n",
    "    if(i<0):\n",
    "        continue\n",
    "    print(i, end=\" \")"
   ]
  },
  {
   "cell_type": "code",
   "execution_count": 22,
   "id": "794f201b",
   "metadata": {},
   "outputs": [
    {
     "name": "stdout",
     "output_type": "stream",
     "text": [
      "5 10 15 "
     ]
    }
   ],
   "source": [
    "n=[-2,5,-8,10,-3,15]\n",
    "for i in n:\n",
    "    if(i>0):\n",
    "        print(i, end=\" \")"
   ]
  },
  {
   "cell_type": "code",
   "execution_count": null,
   "id": "d899e57d",
   "metadata": {},
   "outputs": [],
   "source": []
  }
 ],
 "metadata": {
  "kernelspec": {
   "display_name": "Python 3 (ipykernel)",
   "language": "python",
   "name": "python3"
  },
  "language_info": {
   "codemirror_mode": {
    "name": "ipython",
    "version": 3
   },
   "file_extension": ".py",
   "mimetype": "text/x-python",
   "name": "python",
   "nbconvert_exporter": "python",
   "pygments_lexer": "ipython3",
   "version": "3.9.7"
  }
 },
 "nbformat": 4,
 "nbformat_minor": 5
}

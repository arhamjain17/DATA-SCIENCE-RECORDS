{
 "cells": [
  {
   "cell_type": "code",
   "execution_count": 1,
   "id": "9920023a",
   "metadata": {},
   "outputs": [
    {
     "name": "stdout",
     "output_type": "stream",
     "text": [
      "a&b:  12\n",
      "a|b:  61\n",
      "a^b:  49\n",
      "~a:  -61\n",
      "a<<2:  240\n",
      "a>>2:  15\n"
     ]
    }
   ],
   "source": [
    "a=60\n",
    "b=13\n",
    "\n",
    "print(\"a&b: \",a&b)\n",
    "print(\"a|b: \",a|b)\n",
    "print(\"a^b: \",a^b)\n",
    "print(\"~a: \",~a)\n",
    "print(\"a<<2: \",a<<2)\n",
    "print(\"a>>2: \",a>>2)"
   ]
  },
  {
   "cell_type": "code",
   "execution_count": 2,
   "id": "3d4dfbb9",
   "metadata": {},
   "outputs": [
    {
     "name": "stdout",
     "output_type": "stream",
     "text": [
      "45000\n",
      "yes\n"
     ]
    }
   ],
   "source": [
    "budget=int(input())\n",
    "if(budget>30000):\n",
    "    print(\"yes\")\n",
    "else:\n",
    "    print(\"No\")\n",
    "    "
   ]
  },
  {
   "cell_type": "code",
   "execution_count": 5,
   "id": "7b7d46fb",
   "metadata": {},
   "outputs": [
    {
     "name": "stdout",
     "output_type": "stream",
     "text": [
      "Enter Storage: 128\n",
      "30000\n"
     ]
    }
   ],
   "source": [
    "st=int(input(\"Enter Storage: \"))\n",
    "if(st==32):\n",
    "    print(15000)\n",
    "elif(st==64):\n",
    "    print(20000)\n",
    "elif(st==128):\n",
    "    print(30000)\n",
    "elif(st==256):\n",
    "    print(40000)\n",
    "else:\n",
    "    print(\"NA\")"
   ]
  },
  {
   "cell_type": "code",
   "execution_count": 8,
   "id": "96a4267f",
   "metadata": {},
   "outputs": [
    {
     "name": "stdout",
     "output_type": "stream",
     "text": [
      "First Round: 89\n",
      "Eligible for second round\n",
      "Second Round: 77\n",
      "Eligible for Third round\n",
      "Third Round: 64\n",
      "Selected\n"
     ]
    }
   ],
   "source": [
    "fr=int(input(\"First Round: \"))\n",
    "if(fr>80):\n",
    "    print(\"Eligible for second round\")\n",
    "    sr=int(input(\"Second Round: \"))\n",
    "    if(sr>70):\n",
    "        print(\"Eligible for Third round\")\n",
    "        tr=int(input(\"Third Round: \"))\n",
    "        if(tr>60):\n",
    "            print(\"Selected\")\n",
    "        else:\n",
    "            print(\"Rejected\")\n",
    "    else:\n",
    "        print(\"Not Eligible\")\n",
    "else:\n",
    "    print(\"Not Eligible\")"
   ]
  },
  {
   "cell_type": "code",
   "execution_count": 9,
   "id": "61511bf0",
   "metadata": {},
   "outputs": [
    {
     "name": "stdout",
     "output_type": "stream",
     "text": [
      "87\n",
      "Group1\n"
     ]
    }
   ],
   "source": [
    "m=int(input())\n",
    "if(m>=80):\n",
    "    print(\"Group1\")\n",
    "elif(m>=60 and m<80):\n",
    "    print(\"Group2\")\n",
    "elif(m>=40 and m<60):\n",
    "    print(\"Group3\")\n",
    "else:\n",
    "    print(\"NA\")\n"
   ]
  },
  {
   "cell_type": "code",
   "execution_count": 10,
   "id": "76c209b9",
   "metadata": {},
   "outputs": [
    {
     "name": "stdout",
     "output_type": "stream",
     "text": [
      "Enter userid: admin\n",
      "Enter Password: 12345\n",
      "Login Successful\n"
     ]
    }
   ],
   "source": [
    "uid=input(\"Enter userid: \").strip()\n",
    "\n",
    "if(uid==\"admin\" or uid==\"Admin\"):\n",
    "    p=input(\"Enter Password: \").strip()\n",
    "    if(p==\"12345\"):\n",
    "        print(\"Login Successful\")\n",
    "    else:\n",
    "        print(\"Incorrect Password\")\n",
    "else:\n",
    "    print(\"Incorrect Username\")"
   ]
  },
  {
   "cell_type": "code",
   "execution_count": null,
   "id": "4093bbd5",
   "metadata": {},
   "outputs": [],
   "source": []
  }
 ],
 "metadata": {
  "kernelspec": {
   "display_name": "Python 3 (ipykernel)",
   "language": "python",
   "name": "python3"
  },
  "language_info": {
   "codemirror_mode": {
    "name": "ipython",
    "version": 3
   },
   "file_extension": ".py",
   "mimetype": "text/x-python",
   "name": "python",
   "nbconvert_exporter": "python",
   "pygments_lexer": "ipython3",
   "version": "3.9.7"
  }
 },
 "nbformat": 4,
 "nbformat_minor": 5
}

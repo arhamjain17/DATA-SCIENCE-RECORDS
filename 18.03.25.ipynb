{
 "cells": [
  {
   "cell_type": "code",
   "execution_count": 1,
   "id": "4b7b14e1",
   "metadata": {},
   "outputs": [
    {
     "name": "stdout",
     "output_type": "stream",
     "text": [
      "Enter Number: 3\n",
      "Enter NUmber: 4\n",
      "Add:  7\n",
      "Sub:  -1\n",
      "Multiply:  12\n",
      "Division:  0.75\n",
      "Power:  81\n"
     ]
    }
   ],
   "source": [
    "def add(a,b):\n",
    "    return a+b\n",
    "def sub(a,b):\n",
    "    return a-b\n",
    "def mul(a,b):\n",
    "    return a*b\n",
    "def div(a,b):\n",
    "    if(b==0):\n",
    "        print(\"Error, cannot divide by zero\")\n",
    "        return \n",
    "    return a/b\n",
    "def power(a,b):\n",
    "    return a**b\n",
    "a=int(input(\"Enter Number: \"))\n",
    "b=int(input(\"Enter NUmber: \"))\n",
    "print(\"Add: \",add(a,b))\n",
    "print(\"Sub: \",sub(a,b))\n",
    "print(\"Multiply: \",mul(a,b))\n",
    "print(\"Division: \",div(a,b))\n",
    "print(\"Power: \",power(a,b))"
   ]
  },
  {
   "cell_type": "code",
   "execution_count": 3,
   "id": "8c4131a7",
   "metadata": {},
   "outputs": [
    {
     "name": "stdout",
     "output_type": "stream",
     "text": [
      "After 5%:  38000.0\n",
      "After 10%:  36000.0\n",
      "After 15%:  34000.0\n",
      "After 20%:  32000.0\n"
     ]
    }
   ],
   "source": [
    "def disc5(val):\n",
    "    return val-val*.05\n",
    "def disc10(val):\n",
    "    return val-val*.1\n",
    "def disc15(val):\n",
    "    return val-val*.15\n",
    "def disc20(val):\n",
    "    return val-val*.2    \n",
    "val=40000\n",
    "print(\"After 5%: \",disc5(val))\n",
    "print(\"After 10%: \",disc10(val))\n",
    "print(\"After 15%: \",disc15(val))\n",
    "print(\"After 20%: \",disc20(val))"
   ]
  },
  {
   "cell_type": "code",
   "execution_count": 5,
   "id": "b375197e",
   "metadata": {},
   "outputs": [
    {
     "name": "stdout",
     "output_type": "stream",
     "text": [
      "After 5% discount: 38000.0\n",
      "After 10% discount: 36000.0\n",
      "After 15% discount: 34000.0\n",
      "After 20% discount: 32000.0\n"
     ]
    }
   ],
   "source": [
    "def disc(val,x):\n",
    "    return val-val*(x/100)\n",
    "val=40000\n",
    "x=5\n",
    "while(x<=20):\n",
    "    print(f\"After {x}% discount: {disc(val,x)}\")\n",
    "    x+=5"
   ]
  },
  {
   "cell_type": "code",
   "execution_count": 6,
   "id": "284d78cf",
   "metadata": {},
   "outputs": [
    {
     "name": "stdout",
     "output_type": "stream",
     "text": [
      "Enter discount : 45\n",
      "After 45% discount: 22000.0\n"
     ]
    }
   ],
   "source": [
    "def disc(val,x):\n",
    "    return val-val*(x/100)\n",
    "val=40000\n",
    "x=int(input(\"Enter discount : \"))\n",
    "print(f\"After {x}% discount: {disc(val,x)}\")"
   ]
  },
  {
   "cell_type": "code",
   "execution_count": 10,
   "id": "1a99e2de",
   "metadata": {},
   "outputs": [],
   "source": [
    "def oddoreven(x):\n",
    "    return True if x%2==0 else False"
   ]
  },
  {
   "cell_type": "code",
   "execution_count": 12,
   "id": "3df335b0",
   "metadata": {},
   "outputs": [
    {
     "name": "stdout",
     "output_type": "stream",
     "text": [
      "77\n"
     ]
    },
    {
     "data": {
      "text/plain": [
       "False"
      ]
     },
     "execution_count": 12,
     "metadata": {},
     "output_type": "execute_result"
    }
   ],
   "source": [
    "x=int(input())\n",
    "oddoreven(x)"
   ]
  },
  {
   "cell_type": "code",
   "execution_count": 13,
   "id": "16ddd648",
   "metadata": {},
   "outputs": [
    {
     "name": "stdout",
     "output_type": "stream",
     "text": [
      "5\n"
     ]
    },
    {
     "data": {
      "text/plain": [
       "120"
      ]
     },
     "execution_count": 13,
     "metadata": {},
     "output_type": "execute_result"
    }
   ],
   "source": [
    "def fac(x):\n",
    "    if(x==1 or x==0):\n",
    "        return 1\n",
    "    return x*fac(x-1)\n",
    "x=int(input())\n",
    "fac(x)"
   ]
  },
  {
   "cell_type": "code",
   "execution_count": 18,
   "id": "c873a2ee",
   "metadata": {},
   "outputs": [
    {
     "data": {
      "text/plain": [
       "[1, 4, 9, 16, 25]"
      ]
     },
     "execution_count": 18,
     "metadata": {},
     "output_type": "execute_result"
    }
   ],
   "source": [
    "l=[1,2,3,4,5]\n",
    "xl=list(map(lambda x:x**2,l))\n",
    "xl"
   ]
  },
  {
   "cell_type": "code",
   "execution_count": 20,
   "id": "188a215e",
   "metadata": {},
   "outputs": [
    {
     "data": {
      "text/plain": [
       "[2, 4, 6, 8, 10]"
      ]
     },
     "execution_count": 20,
     "metadata": {},
     "output_type": "execute_result"
    }
   ],
   "source": [
    "l=[1,2,3,4,5,6,7,8,9,10]\n",
    "xl=list(filter(lambda x:x%2==0,l))\n",
    "xl"
   ]
  },
  {
   "cell_type": "code",
   "execution_count": 25,
   "id": "08d486fb",
   "metadata": {},
   "outputs": [
    {
     "data": {
      "text/plain": [
       "24"
      ]
     },
     "execution_count": 25,
     "metadata": {},
     "output_type": "execute_result"
    }
   ],
   "source": [
    "from functools import reduce\n",
    "l=[1,2,3,4]\n",
    "reduce(lambda x,y: x*y,l)"
   ]
  },
  {
   "cell_type": "code",
   "execution_count": 26,
   "id": "1463da40",
   "metadata": {},
   "outputs": [
    {
     "data": {
      "text/plain": [
       "125"
      ]
     },
     "execution_count": 26,
     "metadata": {},
     "output_type": "execute_result"
    }
   ],
   "source": [
    "#Write a Python program to calculate the value of 'a' to the power of 'b' using recursion.\n",
    "def pw(a,b):\n",
    "    if(b==0):\n",
    "        return 1\n",
    "    return a*pw(a,b-1)\n",
    "a=5\n",
    "b=3\n",
    "pw(a,b)"
   ]
  },
  {
   "cell_type": "code",
   "execution_count": 30,
   "id": "4a5d81df",
   "metadata": {},
   "outputs": [
    {
     "data": {
      "text/plain": [
       "[0,\n",
       " 1,\n",
       " 4,\n",
       " 9,\n",
       " 16,\n",
       " 25,\n",
       " 36,\n",
       " 49,\n",
       " 64,\n",
       " 81,\n",
       " 100,\n",
       " 121,\n",
       " 144,\n",
       " 169,\n",
       " 196,\n",
       " 225,\n",
       " 256,\n",
       " 289,\n",
       " 324,\n",
       " 361,\n",
       " 400,\n",
       " 441,\n",
       " 484,\n",
       " 529,\n",
       " 576,\n",
       " 625,\n",
       " 676,\n",
       " 729,\n",
       " 784,\n",
       " 841,\n",
       " 900]"
      ]
     },
     "execution_count": 30,
     "metadata": {},
     "output_type": "execute_result"
    }
   ],
   "source": [
    "def sqr(x):\n",
    "    return x**2\n",
    "l=[]\n",
    "for i in range(31):\n",
    "    l.append(sqr(i))\n",
    "l"
   ]
  },
  {
   "cell_type": "code",
   "execution_count": 32,
   "id": "ac391a81",
   "metadata": {},
   "outputs": [
    {
     "data": {
      "text/plain": [
       "{'Class-V': 1, 'Class-VI': 2, 'Class-VII': 2, 'Class-VIII': 3}"
      ]
     },
     "execution_count": 32,
     "metadata": {},
     "output_type": "execute_result"
    }
   ],
   "source": [
    "cl= ['Class-V', 'Class-VI', 'Class-VII', 'Class-VIII']\n",
    "x=[1, 2, 2, 3]\n",
    "d={}\n",
    "for i in range(len(cl)):\n",
    "    d[cl[i]]=x[i]\n",
    "d"
   ]
  },
  {
   "cell_type": "code",
   "execution_count": null,
   "id": "1f0e2f92",
   "metadata": {},
   "outputs": [],
   "source": []
  }
 ],
 "metadata": {
  "kernelspec": {
   "display_name": "Python 3 (ipykernel)",
   "language": "python",
   "name": "python3"
  },
  "language_info": {
   "codemirror_mode": {
    "name": "ipython",
    "version": 3
   },
   "file_extension": ".py",
   "mimetype": "text/x-python",
   "name": "python",
   "nbconvert_exporter": "python",
   "pygments_lexer": "ipython3",
   "version": "3.9.7"
  }
 },
 "nbformat": 4,
 "nbformat_minor": 5
}
